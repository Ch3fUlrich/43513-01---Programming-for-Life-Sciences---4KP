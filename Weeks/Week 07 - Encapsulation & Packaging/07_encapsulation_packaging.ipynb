{
 "cells": [
  {
   "cell_type": "markdown",
   "metadata": {},
   "source": [
    "# Encapsulation & Packaging\n",
    "\n",
    "This is a primer on how to\n",
    "- encapsulate your code for better reusability\n",
    "- import other people's code so that you don't need to reinvent the wheel\n",
    "- package your code and publish it in a way that other people can use it."
   ]
  },
  {
   "cell_type": "markdown",
   "metadata": {},
   "source": [
    "## Table of Contents\n",
    "\n",
    "* [Why should we encapsulate our code?](#Why-should-we-encapsulate-our-code?)\n",
    "* [Scope](#Scope)\n",
    "* [Types of encapsulation](#Types-of-encapsulation)\n",
    "  * [Classes](#Classes)\n",
    "  * [Modules](#Modules)\n",
    "  * [Packages](#Packages)\n",
    "* [Creating and publishing packages](#Creating-and-publishing-packages)\n",
    "  * [Annotate your package with metadata](#Annotate-your-package-with-metadata)\n",
    "  * [Create a command-line executable](#Create-a-command-line-executable)\n",
    "  * [Build the package for distribution](#Build-the-package-for-distribution)\n",
    "  * [Upload the package to PyPI](#Upload-the-package-to-PyPI)\n",
    "* [Further reading](#Further-reading)\n",
    "* [Homework](#Homework)"
   ]
  },
  {
   "cell_type": "markdown",
   "metadata": {},
   "source": [
    "## Why should we encapsulate our code?\n",
    "\n",
    "A very important concept implemented in most, if not all, programming languages is the principle of *encapsulation*.\n",
    "\n",
    "The basic idea is that code should be written in a modular manner, each functionality being implemented in a piece of code that communicates with the rest of the code via an interface. This has many advantages, such as \n",
    "\n",
    "* each piece of code can be written and tested *independently* of other code\n",
    "* variables values will not be inadvertently changed somewhere else in the program\n",
    "* the code can be easily shared and reused, as users only need to know the interface of the code\n",
    "\n",
    "In other words, it becomes much easier to ensure that a particular functionality is implemented correctly, it can be optimized without affecting other parts of a program, and once the development of the code is complete, it does not have to be revisited when another part of the program is modified.\n",
    "\n",
    "Furthermore, encapsulated code can be conveniently reused without having to worry how it does what it does, just like a *black box*:\n",
    "```\n",
    "        ____________\n",
    "       | BLACK  BOX |\n",
    "       |            |\n",
    "input ==> f(input) ==> output\n",
    "       |            |\n",
    "       |____________|\n",
    "```\n",
    "\n",
    "The output produced by the code in the black box is just a function of its input."
   ]
  },
  {
   "cell_type": "markdown",
   "metadata": {},
   "source": [
    "## Scope\n",
    "\n",
    "The fundamental idea that different layers of encapsulation build on is that of **scope**, i.e. where a particular object is *visible* and can be accessed in the program.\n",
    "\n",
    "Imagine that we have written a function `power_up()` that looks like this:"
   ]
  },
  {
   "cell_type": "code",
   "execution_count": 1,
   "metadata": {},
   "outputs": [],
   "source": [
    "def power_up(x, y=1):\n",
    "    \"\"\"returns x^y, or x^1 if no value for y is provided\"\"\"\n",
    "    return x**y"
   ]
  },
  {
   "cell_type": "markdown",
   "metadata": {},
   "source": [
    "And we use this function in our code:"
   ]
  },
  {
   "cell_type": "code",
   "execution_count": 2,
   "metadata": {},
   "outputs": [
    {
     "name": "stdout",
     "output_type": "stream",
     "text": [
      "With 2 args: 27\n",
      "With default: 3\n"
     ]
    },
    {
     "ename": "NameError",
     "evalue": "name 'y' is not defined",
     "output_type": "error",
     "traceback": [
      "\u001b[0;31m---------------------------------------------------------------------------\u001b[0m",
      "\u001b[0;31mNameError\u001b[0m                                 Traceback (most recent call last)",
      "\u001b[0;32m<ipython-input-2-34eaf31c5449>\u001b[0m in \u001b[0;36m<module>\u001b[0;34m\u001b[0m\n\u001b[1;32m      1\u001b[0m \u001b[0mprint\u001b[0m\u001b[0;34m(\u001b[0m\u001b[0;34m\"With 2 args:\"\u001b[0m\u001b[0;34m,\u001b[0m \u001b[0mpower_up\u001b[0m\u001b[0;34m(\u001b[0m\u001b[0;36m3\u001b[0m\u001b[0;34m,\u001b[0m \u001b[0;36m3\u001b[0m\u001b[0;34m)\u001b[0m\u001b[0;34m)\u001b[0m\u001b[0;34m\u001b[0m\u001b[0;34m\u001b[0m\u001b[0m\n\u001b[1;32m      2\u001b[0m \u001b[0mprint\u001b[0m\u001b[0;34m(\u001b[0m\u001b[0;34m\"With default:\"\u001b[0m\u001b[0;34m,\u001b[0m \u001b[0mpower_up\u001b[0m\u001b[0;34m(\u001b[0m\u001b[0;36m3\u001b[0m\u001b[0;34m)\u001b[0m\u001b[0;34m)\u001b[0m\u001b[0;34m\u001b[0m\u001b[0;34m\u001b[0m\u001b[0m\n\u001b[0;32m----> 3\u001b[0;31m \u001b[0mprint\u001b[0m\u001b[0;34m(\u001b[0m\u001b[0;34m\"With y=\"\u001b[0m\u001b[0;34m,\u001b[0m \u001b[0my\u001b[0m\u001b[0;34m,\u001b[0m \u001b[0;34m\": \"\u001b[0m\u001b[0;34m,\u001b[0m \u001b[0mpower_up\u001b[0m\u001b[0;34m(\u001b[0m\u001b[0;36m3\u001b[0m\u001b[0;34m)\u001b[0m\u001b[0;34m)\u001b[0m\u001b[0;34m\u001b[0m\u001b[0;34m\u001b[0m\u001b[0m\n\u001b[0m",
      "\u001b[0;31mNameError\u001b[0m: name 'y' is not defined"
     ]
    }
   ],
   "source": [
    "print(\"With 2 args:\", power_up(3, 3))\n",
    "print(\"With default:\", power_up(3))\n",
    "print(\"With y=\", y, \": \", power_up(3))"
   ]
  },
  {
   "cell_type": "markdown",
   "metadata": {},
   "source": [
    "What has happened? \n",
    "\n",
    "Even though the function executes fine, at the last call to print we find out that `y` is not defined. Why is that? \n",
    "\n",
    "That's because `y` only exists within the **scope of the `power_up` function**, not in the scope of the program which calls the function. This is important! Imagine what would happen if every function, module etc. that we use in our code, written by ourselves or others, would define variables that are visible everywhere in the code. Then variables that we define will start changing without us being aware because the same names are defined and used by others in the modules that we imported. Not a good idea.\n",
    "\n",
    "Python keeps track of variables, functions etc. in a `symbol table`, where each of these objects are associated with their scope. Objects from an *outer* scope are visible in a *inner* scope but not the other way around. Let's look at an example:"
   ]
  },
  {
   "cell_type": "code",
   "execution_count": 3,
   "metadata": {},
   "outputs": [
    {
     "name": "stdout",
     "output_type": "stream",
     "text": [
      "Before function call x = 3\n",
      "In the inner scope x = 4\n",
      "in the inner scope z =  10\n",
      "16\n",
      "After function call x = 3\n"
     ]
    }
   ],
   "source": [
    "def power_up(x, y=1):\n",
    "    \"\"\"returns x^y, or x^1 if no value for y is provided\"\"\"\n",
    "    print(\"In the inner scope x =\", str(x))\n",
    "    print(\"in the inner scope z = \", str(z))\n",
    "    return x**y\n",
    "\n",
    "x = 3\n",
    "z = 10\n",
    "\n",
    "print(\"Before function call x =\", str(x))\n",
    "print(power_up(4, 2))\n",
    "print(\"After function call x =\", str(x))"
   ]
  },
  {
   "cell_type": "markdown",
   "metadata": {},
   "source": [
    "As you can see, the `global` variable `x` defined outside of the function is not influenced by the argument `x` used by the function. Furthermore, the `global` variable `z` is visible inside the function. This is because Python follows specific rules of *scope resolution*, roughly speaking checking tables of symbols from the innermost to the outermost scope until it finds the name that we refer to (or not, as was the case with the `y` variable in the example above)."
   ]
  },
  {
   "cell_type": "markdown",
   "metadata": {},
   "source": [
    "## Types of encapsulation\n",
    "\n",
    "Python's functions and methods are one example of encapsulation. Let's look at some others."
   ]
  },
  {
   "cell_type": "markdown",
   "metadata": {},
   "source": [
    "### Classes\n",
    "\n",
    "Classes are nice abstractions that allow us to group data and functionality into objects, creating new *data types* or extending already available ones. Classes also define new *name scopes*, beyond the *global* scope of the entire program and the *local* scope of individual functions."
   ]
  },
  {
   "cell_type": "markdown",
   "metadata": {},
   "source": [
    "#### Defining classes\n",
    "\n",
    "Classes are defined similarly to functions:\n",
    "\n",
    "```\n",
    "class ClassName:\n",
    "    <statement 1>\n",
    "    <statement 2>\n",
    "    ...\n",
    "    <statement n>\n",
    "```\n",
    "\n",
    "Class definitions should come before the first use of the class object. The statements inside the class definition implement class *variables* and *methods*, the latter being a special type of function, associated with the data type, which can be accessed with the <kbd>.</kbd> notation. Let's look in more detail at an example, a class intended to describe lymphocytes, which are distinguished by their surface molecules (*markers*)."
   ]
  },
  {
   "cell_type": "code",
   "execution_count": 14,
   "metadata": {},
   "outputs": [],
   "source": [
    "# a class describing different types of lymphocytes\n",
    "class Cell:\n",
    "\n",
    "    markers = []\n",
    "    \n",
    "    def __init__(self, kind):\n",
    "        self.kind = kind\n",
    "        \n",
    "    def add_marker(self, marker):\n",
    "        self.markers.append(marker)"
   ]
  },
  {
   "cell_type": "markdown",
   "metadata": {},
   "source": [
    "What did we just do?\n",
    "\n",
    "We started by defining a `class variable` called *markers*, intended to hold the markers associated with each type of cell. We then defined two functions, one that has a special name, `__init__` and will be called every time we create an `instance` of the class and another that adds markers for the cell. \n",
    "\n",
    "An interesting feature of Python is that while data types are \"recipes\" for creating *instances*, they are themselves objects in the language. For this reason you see in the definition of methods that the first argument is `self`, the keyword denoting the instance of the class to which the method is applied.\n",
    "\n",
    "The `add_marker` function allows us to construct the list of markers defining the cell type.\n",
    "\n",
    "\n",
    "Now, let's define some lymphocyte objects:"
   ]
  },
  {
   "cell_type": "code",
   "execution_count": 15,
   "metadata": {},
   "outputs": [
    {
     "name": "stdout",
     "output_type": "stream",
     "text": [
      "B cell markers: \n",
      "['CD19', 'CD3']\n",
      "T cell markers: \n",
      "['CD19', 'CD3']\n"
     ]
    }
   ],
   "source": [
    "c = Cell(\"B cell\")\n",
    "c.add_marker(\"CD19\")\n",
    "d = Cell(\"T cell\")\n",
    "d.add_marker(\"CD3\")\n",
    "print(c.kind + \" markers: \")\n",
    "print(c.markers)\n",
    "print(d.kind + \" markers: \")\n",
    "print(d.markers)"
   ]
  },
  {
   "cell_type": "markdown",
   "metadata": {},
   "source": [
    "Hmmm... what just happened? Not quite what we intended it seems. Instead of a cell type-specific marker list, we ended up with each cell ends up having the same markers. This is because *markers* was defined as a mutable `class variable`, which all instances share and end up modifying. In contrast *kind* is an `instance variable`, its definition being linked to a specific instance of the class, which is why the full name of the varible is `self.kind`. \n",
    "\n",
    "To achieve what we want we would have to define a *markers* variable for each instance. \n",
    "\n",
    "Using the scope rules and the fact that classes are also Python objects, we can still define and access class variable as illustrated below. Note though that, in contrast to some other programming languages, Python does not prevent us from accessing all members of a class, variables and methods, via the <kbd>.</kbd> notation, i.e. they are *public*, not *private* to the class. "
   ]
  },
  {
   "cell_type": "code",
   "execution_count": 18,
   "metadata": {},
   "outputs": [
    {
     "name": "stdout",
     "output_type": "stream",
     "text": [
      "B cell markers: CD19\n",
      "T cell markers: CD3\n",
      "Cell class markers: TIA1\n"
     ]
    }
   ],
   "source": [
    "# a class describing different cell types\n",
    "class Cell:\n",
    "\n",
    "    markers = []\n",
    "    \n",
    "    def __init__(self, kind):\n",
    "        self.kind = kind\n",
    "        self.markers = []\n",
    "        \n",
    "    def add_marker(self, marker):\n",
    "        self.markers.append(marker)\n",
    "        \n",
    "c = Cell(\"B cell\")\n",
    "c.add_marker(\"CD19\")\n",
    "d = Cell(\"T cell\")\n",
    "d.add_marker(\"CD3\")\n",
    "Cell.markers.append(\"TIA1\")\n",
    "print(c.kind + \" markers: \" + \" \".join(c.markers))\n",
    "print(d.kind + \" markers: \" + \" \".join(d.markers))\n",
    "print(\"Cell class markers: \" + \" \". join(Cell.markers))"
   ]
  },
  {
   "cell_type": "markdown",
   "metadata": {},
   "source": [
    "A better use of class variables is to keep track of properties that are indeed shared by all instances of the class. In the example below we define a dictionary class variable. This uses a data type we have not discussed before, the enumeration or `Enum` type. This basically consists of consecutive numerical values typically starting from 1, but assigns more informative names to these values that we use in subsequent code. \n",
    "\n",
    "Here we first create an `Enum` variable called *errorType*, that associates numbers 1, 2, and 3, with three names, parsed out of a string argument. We get 3 error objects within errorType, they have the names `unknown`, `'wrongType` and `wrongValue`. Within each of these objects we have a name and a value. The names are again `unknown`, `'wrongType` and `wrongValue`, and the values are 1, 2, 3.\n",
    "\n",
    "In the second line, we create a dictionary class variable that associates the values 1, 2, 3 denoting the error types to more verbose messages about what the errors mean."
   ]
  },
  {
   "cell_type": "code",
   "execution_count": 24,
   "metadata": {},
   "outputs": [
    {
     "name": "stdout",
     "output_type": "stream",
     "text": [
      "(1, 'Unexpected error')\n",
      "(2, 'Incorrect parameter type')\n",
      "And here is what an errorType variable contains:\n",
      "<enum 'errorType'>\n",
      "unknown:1\n"
     ]
    }
   ],
   "source": [
    "from enum import Enum\n",
    "\n",
    "class ParameterError:\n",
    "    errorType = Enum('errorType', 'unknown wrongType wrongValue')\n",
    "    messageDict = {errorType.unknown.value : \"Unexpected error\",\n",
    "                   errorType.wrongType.value : \"Incorrect parameter type\", \n",
    "                   errorType.wrongValue.value : \"Incorrect parameter value\"}\n",
    "    \n",
    "    def __init__(self, typeCode=errorType.unknown.value):\n",
    "        self.t = typeCode\n",
    "        self.m = self.messageDict[self.t]\n",
    "\n",
    "    def shout(self):\n",
    "        return (self.t, self.m)\n",
    "\n",
    "e = ParameterError(1)\n",
    "f = ParameterError(2)\n",
    "print(e.shout())\n",
    "print(f.shout())\n",
    "\n",
    "print(\"And here is what an errorType variable contains:\")\n",
    "print(type(ParameterError.errorType.unknown))\n",
    "print(f'{ParameterError.errorType.unknown.name}:{ParameterError.errorType.unknown.value}')"
   ]
  },
  {
   "cell_type": "markdown",
   "metadata": {},
   "source": [
    "#### Inheritance\n",
    "\n",
    "Classes are important not only because of the encapsulation they provide, but also because they support `inheritance`, a concept that allows us to build objects in a modular, incremental manner. Let's look again at an example. "
   ]
  },
  {
   "cell_type": "code",
   "execution_count": 25,
   "metadata": {},
   "outputs": [],
   "source": [
    "class Transcript:\n",
    "    \n",
    "    def __init__(self, tid, name, kind):\n",
    "        # give the transcript an identifier, name and function\n",
    "        self.tid = tid\n",
    "        self.name = name\n",
    "        self.kind = kind\n",
    "        \n",
    "    def set_coords(self, chrom, strand, start, end):\n",
    "        # save the coordinates of the transcript in the genome\n",
    "        self.chrom = chrom\n",
    "        self.strand = strand\n",
    "        self.start = start\n",
    "        self.end = end\n",
    "        \n",
    "    def set_sequence(self, seq):\n",
    "        # save the transcript sequence\n",
    "        self.seq = seq\n",
    "        \n",
    "\n",
    "class CodingTranscript(Transcript):\n",
    "    \n",
    "    def set_cds(self, start, end):\n",
    "        self.cds_start = start\n",
    "        self.cds_end = end\n",
    "        "
   ]
  },
  {
   "cell_type": "markdown",
   "metadata": {},
   "source": [
    "We here defined a general `Transcript` class, with information that all transcripts should have, i.e. id, name, functional annotation, as well as genome coordinates and sequence. For transcripts encoding proteins we would also like to know where the coding region starts and ends in the genome, so we next defined a `CodingTranscript` class that **inherits** from the `Transcript` class, i.e. has all the attributes of this class, but in addition, it has a method that can set the additional variables. Let's use these classes now to create a coding and a non-coding transcript."
   ]
  },
  {
   "cell_type": "code",
   "execution_count": 26,
   "metadata": {},
   "outputs": [
    {
     "ename": "AttributeError",
     "evalue": "'Transcript' object has no attribute 'set_cds'",
     "output_type": "error",
     "traceback": [
      "\u001b[0;31m---------------------------------------------------------------------------\u001b[0m",
      "\u001b[0;31mAttributeError\u001b[0m                            Traceback (most recent call last)",
      "\u001b[0;32m<ipython-input-26-4ad8c62b7a0c>\u001b[0m in \u001b[0;36m<module>\u001b[0;34m\u001b[0m\n\u001b[1;32m      5\u001b[0m \u001b[0mmy_nc_transcript\u001b[0m \u001b[0;34m=\u001b[0m \u001b[0mTranscript\u001b[0m\u001b[0;34m(\u001b[0m\u001b[0;34m\"2\"\u001b[0m\u001b[0;34m,\u001b[0m \u001b[0;34m\"NCT1\"\u001b[0m\u001b[0;34m,\u001b[0m \u001b[0;34m\"noncoding\"\u001b[0m\u001b[0;34m)\u001b[0m\u001b[0;34m\u001b[0m\u001b[0;34m\u001b[0m\u001b[0m\n\u001b[1;32m      6\u001b[0m \u001b[0mmy_nc_transcript\u001b[0m\u001b[0;34m.\u001b[0m\u001b[0mset_coords\u001b[0m\u001b[0;34m(\u001b[0m\u001b[0;34m\"chr3\"\u001b[0m\u001b[0;34m,\u001b[0m \u001b[0;34m\"-\"\u001b[0m\u001b[0;34m,\u001b[0m \u001b[0;36m852314\u001b[0m\u001b[0;34m,\u001b[0m \u001b[0;36m853100\u001b[0m\u001b[0;34m)\u001b[0m\u001b[0;34m\u001b[0m\u001b[0;34m\u001b[0m\u001b[0m\n\u001b[0;32m----> 7\u001b[0;31m \u001b[0mmy_nc_transcript\u001b[0m\u001b[0;34m.\u001b[0m\u001b[0mset_cds\u001b[0m\u001b[0;34m(\u001b[0m\u001b[0;36m42\u001b[0m\u001b[0;34m,\u001b[0m \u001b[0;36m604\u001b[0m\u001b[0;34m)\u001b[0m\u001b[0;34m\u001b[0m\u001b[0;34m\u001b[0m\u001b[0m\n\u001b[0m",
      "\u001b[0;31mAttributeError\u001b[0m: 'Transcript' object has no attribute 'set_cds'"
     ]
    }
   ],
   "source": [
    "my_coding_transcript = CodingTranscript(\"1\", \"CT1\", \"coding\")\n",
    "my_coding_transcript.set_coords(\"chr1\", \"+\", 231456, 232929)\n",
    "my_coding_transcript.set_cds(142, 895)\n",
    "\n",
    "my_nc_transcript = Transcript(\"2\", \"NCT1\", \"noncoding\")\n",
    "my_nc_transcript.set_coords(\"chr3\", \"-\", 852314, 853100)\n",
    "my_nc_transcript.set_cds(42, 604)"
   ]
  },
  {
   "cell_type": "markdown",
   "metadata": {},
   "source": [
    "As we can see, all works well when we set `cds_start` and `cds_end` in a transcript of the `CodingTranscript` class, which has this method and attributes, but not when we try to use the method for an instance of the `Transcript` base class, which does not have the `set_cds` method defined. \n",
    "\n",
    "Furthermore, we can also see that the `__init__` function defined for a `Transcript` is invoked when we create an instance of the `CodingTranscript` class, because this latter class does not have another `__init__` method.\n",
    "\n",
    "On the other hand, we can overwrite the `__init__` function in the subclass, which will work like this:"
   ]
  },
  {
   "cell_type": "code",
   "execution_count": 27,
   "metadata": {},
   "outputs": [
    {
     "ename": "TypeError",
     "evalue": "__init__() missing 2 required positional arguments: 'start' and 'end'",
     "output_type": "error",
     "traceback": [
      "\u001b[0;31m---------------------------------------------------------------------------\u001b[0m",
      "\u001b[0;31mTypeError\u001b[0m                                 Traceback (most recent call last)",
      "\u001b[0;32m<ipython-input-27-f9d6c171baf0>\u001b[0m in \u001b[0;36m<module>\u001b[0;34m\u001b[0m\n\u001b[1;32m     10\u001b[0m \u001b[0;34m\u001b[0m\u001b[0m\n\u001b[1;32m     11\u001b[0m \u001b[0msecond_coding_transcript\u001b[0m \u001b[0;34m=\u001b[0m \u001b[0mOtherCodingTranscript\u001b[0m\u001b[0;34m(\u001b[0m\u001b[0;34m\"2\"\u001b[0m\u001b[0;34m,\u001b[0m \u001b[0;34m\"CT2\"\u001b[0m\u001b[0;34m,\u001b[0m \u001b[0;34m\"coding\"\u001b[0m\u001b[0;34m,\u001b[0m \u001b[0;36m45\u001b[0m\u001b[0;34m,\u001b[0m \u001b[0;36m500\u001b[0m\u001b[0;34m)\u001b[0m\u001b[0;34m\u001b[0m\u001b[0;34m\u001b[0m\u001b[0m\n\u001b[0;32m---> 12\u001b[0;31m \u001b[0mthird_coding_transcript\u001b[0m \u001b[0;34m=\u001b[0m \u001b[0mOtherCodingTranscript\u001b[0m\u001b[0;34m(\u001b[0m\u001b[0;34m\"3\"\u001b[0m\u001b[0;34m,\u001b[0m \u001b[0;34m\"CT3\"\u001b[0m\u001b[0;34m,\u001b[0m \u001b[0;34m\"coding\"\u001b[0m\u001b[0;34m)\u001b[0m\u001b[0;34m\u001b[0m\u001b[0;34m\u001b[0m\u001b[0m\n\u001b[0m",
      "\u001b[0;31mTypeError\u001b[0m: __init__() missing 2 required positional arguments: 'start' and 'end'"
     ]
    }
   ],
   "source": [
    "class OtherCodingTranscript(Transcript):\n",
    "    \n",
    "    def __init__(self, tid, name, kind, start, end):\n",
    "        # give the transcript an identifier, name and function\n",
    "        self.tid = tid\n",
    "        self.name = name\n",
    "        self.kind = kind\n",
    "        self.cds_start = start\n",
    "        self.cds_end = end\n",
    "\n",
    "second_coding_transcript = OtherCodingTranscript(\"2\", \"CT2\", \"coding\", 45, 500)\n",
    "third_coding_transcript = OtherCodingTranscript(\"3\", \"CT3\", \"coding\")"
   ]
  },
  {
   "cell_type": "markdown",
   "metadata": {},
   "source": [
    "So when the function is defined in the derived class, it is used, and in this case, it has a different number of arguments than the `__init__` function of the base class, which is why the third_coding_transcript does not get created. There are also ways to do the initialization stepwise, cascading `__init__` calls to parent functions. The `__init__` function of the parent class can be accessed as `super().__init__` in the body of the `__init__` function of the derived class."
   ]
  },
  {
   "cell_type": "markdown",
   "metadata": {},
   "source": [
    "### Modules\n",
    "\n",
    "Let's look now at another very useful form of encapsulation, which is the **module**. Documentation about modules can be found at https://docs.python.org/3/tutorial/modules.html\n",
    "\n",
    "A **module** is a logical unit of code, a file containing Python definitions and statements. In its most basic form, it is just the set of commands inside one of the code cells here, saved as a text file with a `.py` extension (a Python *script* or program).\n",
    "\n",
    "As soon as scripts get too big, it makes sense to distribute functional units across multiple files/modules to make them more managable. We would then split up the code such that each module deals with a specific functionality or set of functionalities that we need in our program. Some modules may be extremely general, as they basically define objects and methods for those objects that are useful in very different fields, from physics to biology to humanities.\n",
    "\n",
    "To use the content of a module within another module or program one needs to `import` the module. This will include the objects and methods of the module in the symbol table of our program. To avoid any confusion, the names of the objects and methods of the module will be accessible within the current program prefixed with the name of the module.\n",
    "\n",
    "Python already comes with a considerable number of built-in modules. We are going to look at a number of modules in the coming weeks, but let's take a look at an example to get an idea of how a module is composed. We will use a module that comes with the standard python distribution, namely `time`."
   ]
  },
  {
   "cell_type": "markdown",
   "metadata": {},
   "source": [
    "#### Example: The `time` module\n",
    "\n",
    "It's not uncommon that we want to find out how long it takes to run various parts of our programs and for this, Python has a built-in `time` module that has a lot of relevant functions. We can access this package as follows:"
   ]
  },
  {
   "cell_type": "code",
   "execution_count": 28,
   "metadata": {},
   "outputs": [
    {
     "name": "stdout",
     "output_type": "stream",
     "text": [
      "<module 'time' (built-in)>\n"
     ]
    }
   ],
   "source": [
    "import time\n",
    "\n",
    "print(time)"
   ]
  },
  {
   "cell_type": "markdown",
   "metadata": {},
   "source": [
    "The `print` command does not tell us very explicitly what is inside the module. To find out, we can use the **`dir()`** function, using the module name as argument:"
   ]
  },
  {
   "cell_type": "code",
   "execution_count": 29,
   "metadata": {},
   "outputs": [
    {
     "data": {
      "text/plain": [
       "['_STRUCT_TM_ITEMS',\n",
       " '__doc__',\n",
       " '__loader__',\n",
       " '__name__',\n",
       " '__package__',\n",
       " '__spec__',\n",
       " 'altzone',\n",
       " 'asctime',\n",
       " 'ctime',\n",
       " 'daylight',\n",
       " 'get_clock_info',\n",
       " 'gmtime',\n",
       " 'localtime',\n",
       " 'mktime',\n",
       " 'monotonic',\n",
       " 'monotonic_ns',\n",
       " 'perf_counter',\n",
       " 'perf_counter_ns',\n",
       " 'process_time',\n",
       " 'process_time_ns',\n",
       " 'sleep',\n",
       " 'strftime',\n",
       " 'strptime',\n",
       " 'struct_time',\n",
       " 'time',\n",
       " 'time_ns',\n",
       " 'timezone',\n",
       " 'tzname',\n",
       " 'tzset']"
      ]
     },
     "execution_count": 29,
     "metadata": {},
     "output_type": "execute_result"
    }
   ],
   "source": [
    "dir(time)"
   ]
  },
  {
   "cell_type": "markdown",
   "metadata": {},
   "source": [
    "What are these things? Modules typically contain one or more of the following objects:\n",
    "* special functions (starting with double underscores)\n",
    "* variables (may also be referred to as attributes)\n",
    "* functions (may also be referred to as methods)\n",
    "\n",
    "To enforce good programming practices, Python has a number of conventions about underscores in names:\n",
    "\n",
    "* Single Leading Underscore **`_var`**: Indicates that the name is not part of the interface; it is for internal use in the module (similar to `private` names in other programming languages). \n",
    "* Double Leading Underscore **`__var`**: Indicates that in the context of Python `classes` the name will be rewritten to prevent conflicts with names in subclasses.\n",
    "* Single Trailing Underscore **`var_`**: Used to avoid naming conflicts with Python keywords.\n",
    "* Double Trailing Underscore **`__var__`**: Indicates special methods defined by the Python language (as we see above in the `time` module).\n",
    "* Underscore **`_`**: Special name for temporary variables.\n",
    "\n",
    "Let's have a look at some of the objects, starting with the specially designated ones."
   ]
  },
  {
   "cell_type": "code",
   "execution_count": 30,
   "metadata": {},
   "outputs": [
    {
     "name": "stdout",
     "output_type": "stream",
     "text": [
      "This module provides various functions to manipulate time values.\n",
      "\n",
      "There are two standard representations of time.  One is the number\n",
      "of seconds since the Epoch, in UTC (a.k.a. GMT).  It may be an integer\n",
      "or a floating point number (to represent fractions of seconds).\n",
      "The Epoch is system-defined; on Unix, it is generally January 1st, 1970.\n",
      "The actual value can be retrieved by calling gmtime(0).\n",
      "\n",
      "The other representation is a tuple of 9 integers giving local time.\n",
      "The tuple items are:\n",
      "  year (including century, e.g. 1998)\n",
      "  month (1-12)\n",
      "  day (1-31)\n",
      "  hours (0-23)\n",
      "  minutes (0-59)\n",
      "  seconds (0-59)\n",
      "  weekday (0-6, Monday is 0)\n",
      "  Julian day (day in the year, 1-366)\n",
      "  DST (Daylight Savings Time) flag (-1, 0 or 1)\n",
      "If the DST flag is 0, the time is given in the regular time zone;\n",
      "if it is 1, the time is given in the DST time zone;\n",
      "if it is -1, mktime() should guess based on the date and time.\n",
      "\n"
     ]
    }
   ],
   "source": [
    "# Documentation text, also used when calling help() on the module\n",
    "print(time.__doc__)"
   ]
  },
  {
   "cell_type": "code",
   "execution_count": 31,
   "metadata": {},
   "outputs": [
    {
     "name": "stdout",
     "output_type": "stream",
     "text": [
      "Loader:  <class '_frozen_importlib.BuiltinImporter'>\n",
      "Package:  \n",
      "Spec:  ModuleSpec(name='time', loader=<class '_frozen_importlib.BuiltinImporter'>, origin='built-in')\n",
      "Name:  time\n"
     ]
    }
   ],
   "source": [
    "print('Loader: ', time.__loader__)\n",
    "print('Package: ', time.__package__)\n",
    "print('Spec: ', time.__spec__)\n",
    "print('Name: ', time.__name__)"
   ]
  },
  {
   "cell_type": "markdown",
   "metadata": {},
   "source": [
    "So these special objects give us more information about the module, including its name, where it resides and how it is loaded."
   ]
  },
  {
   "cell_type": "code",
   "execution_count": 32,
   "metadata": {},
   "outputs": [
    {
     "name": "stdout",
     "output_type": "stream",
     "text": [
      "time.struct_time(tm_year=2024, tm_mon=11, tm_mday=2, tm_hour=9, tm_min=59, tm_sec=42, tm_wday=5, tm_yday=307, tm_isdst=0)\n",
      "time.struct_time(tm_year=2024, tm_mon=11, tm_mday=2, tm_hour=10, tm_min=59, tm_sec=42, tm_wday=5, tm_yday=307, tm_isdst=0)\n"
     ]
    }
   ],
   "source": [
    "print(time.gmtime())  # coordinated universal time\n",
    "print(time.localtime())  # local time"
   ]
  },
  {
   "cell_type": "markdown",
   "metadata": {},
   "source": [
    "The `sleep` function is especially useful when dealing with web services, when we do not want to flood the service with request. Then, we typically space the requests at appropriate time intervals, and the `sleep` function helps us do this. For example:"
   ]
  },
  {
   "cell_type": "code",
   "execution_count": 33,
   "metadata": {},
   "outputs": [
    {
     "name": "stdout",
     "output_type": "stream",
     "text": [
      "Starting to wait...\n",
      "Done waiting.\n"
     ]
    }
   ],
   "source": [
    "def sleep_n_seconds(n = 10):\n",
    "    \"\"\"This function waits for n (default = 10) seconds.\"\"\"\n",
    "    print('Starting to wait...')\n",
    "    time.sleep(n)\n",
    "    print('Done waiting.')\n",
    "    return\n",
    "\n",
    "sleep_n_seconds(10)"
   ]
  },
  {
   "cell_type": "markdown",
   "metadata": {},
   "source": [
    "Let's convince ourselves that it really waits for the specified amount of seconds. We'll rewrite the function to tell us the time before it starts waiting and when it's finished:"
   ]
  },
  {
   "cell_type": "code",
   "execution_count": 34,
   "metadata": {},
   "outputs": [
    {
     "name": "stdout",
     "output_type": "stream",
     "text": [
      "Starting to wait...\n",
      "Done waiting.\n",
      "Started at:  Sat Nov  2 11:00:49 2024\n",
      "Ended at:  Sat Nov  2 11:00:52 2024\n",
      "Time elapsed: 3.0011141300201416\n"
     ]
    }
   ],
   "source": [
    "def sleep_n_seconds(n = 10):\n",
    "    \"\"\"This function waits for n (default = 10) seconds and returns the elapsed time.\"\"\"\n",
    "    print('Starting to wait...')\n",
    "    start = time.time()\n",
    "    time.sleep(n)\n",
    "    end = time.time()\n",
    "    print('Done waiting.')\n",
    "    return start, end\n",
    "\n",
    "(start, end) = sleep_n_seconds(3)\n",
    "\n",
    "print('Started at: ', time.ctime(start))\n",
    "print('Ended at: ', time.ctime(end))\n",
    "print('Time elapsed:', end-start)"
   ]
  },
  {
   "cell_type": "markdown",
   "metadata": {},
   "source": [
    "#### The special variable `__name__`\n",
    "\n",
    "We'll have a closer look at the **`__name__`** variable, which has a special use in python, not encountered in other programming languages: it allows us to write modules  that can be either run as stand-alone programs or be imported within other programs. How does it work? The whole idea rests on what the `__name__` variables is set to in these two situations: \n",
    "\n",
    "1. When the module is run as stand-alone with `python my_module.py`, the variable `__name__` is given the value `'__main__'`.\n",
    "2. However, when the module is imported within another program, the variable `__name__` is given the name of the module file, which in this case would be `'my_module'`.\n",
    "\n",
    "We can exploit this to define code that is only executed if the program was started in the stand-alone mode:\n",
    "\n",
    "```python\n",
    "def main:\n",
    "    print 'The value of __name__ is ' + __name__\n",
    "\n",
    "#### THE BELOW WILL BE FALSE IF THE MODULE IS IMPORTED AND main() WILL NOT BE EXECUTED ####    \n",
    "\n",
    "if __name__ == '__main__':\n",
    "    main()\n",
    "```\n",
    "\n",
    "This pattern is generally found in Python-based command-line tools and scripts. Not having the `if __name__ == '__main__'` guard in these circumstances may have unintended side effects upon importing.\n",
    "\n",
    "Let's use one of the previous examples to illustrate this, specifically an example of the `power_up` function. Assume that we saved one of the previous cells in this notebook as a script (`my_mod.py`) in a directory of __helpers__ scripts. The content of the script is:"
   ]
  },
  {
   "cell_type": "code",
   "execution_count": 35,
   "metadata": {},
   "outputs": [
    {
     "name": "stdout",
     "output_type": "stream",
     "text": [
      "def power_up_1(x, y=1):\r\n",
      "    \"\"\"returns x^y, or x^1 if no value for y is provided\"\"\"\r\n",
      "    print(\"In the inner scope x =\", str(x))\r\n",
      "    print(\"in the inner scope z =\", str(z1))\r\n",
      "    return x**y\r\n",
      "\r\n",
      "x = 3\r\n",
      "z1 = 10\r\n",
      "\r\n",
      "print(\"Before function call x =\", str(x))\r\n",
      "print(power_up_1(4, 2))\r\n",
      "print(\"After function call x =\", str(x))\r\n"
     ]
    }
   ],
   "source": [
    "!cat helpers/my_mod.py"
   ]
  },
  {
   "cell_type": "markdown",
   "metadata": {},
   "source": [
    "Basically, we defined the `power_up_1` function, which we called like that to make sure that we distinguish from the `power_up` function we defined earlier, and after this function definition we initialized some variables, made a call to the `power_up_1` function and had some print statements. Now take a look at what happens if we import this piece of code, i.e. this module:"
   ]
  },
  {
   "cell_type": "code",
   "execution_count": 36,
   "metadata": {},
   "outputs": [
    {
     "name": "stdout",
     "output_type": "stream",
     "text": [
      "Before function call x = 3\n",
      "In the inner scope x = 4\n",
      "in the inner scope z = 10\n",
      "16\n",
      "After function call x = 3\n"
     ]
    }
   ],
   "source": [
    "import helpers.my_mod"
   ]
  },
  {
   "cell_type": "markdown",
   "metadata": {},
   "source": [
    "The code in the module was executed upon import, including setting of variables and print out statements, which we included in that module for testing purposes. The variables and functions from this module are accessible (recall the `.` notation):"
   ]
  },
  {
   "cell_type": "code",
   "execution_count": 37,
   "metadata": {},
   "outputs": [
    {
     "name": "stdout",
     "output_type": "stream",
     "text": [
      "In the inner scope x = 5\n",
      "in the inner scope z = 10\n",
      "Accessing module function: 125\n",
      "Accessing module variable: 10\n"
     ]
    }
   ],
   "source": [
    "print(\"Accessing module function: \" + str(helpers.my_mod.power_up_1(5, 3)))\n",
    "print(\"Accessing module variable: \" + str(helpers.my_mod.z1))"
   ]
  },
  {
   "cell_type": "code",
   "execution_count": 41,
   "metadata": {},
   "outputs": [
    {
     "name": "stdout",
     "output_type": "stream",
     "text": [
      "def power_up_2(x, y=1):\r\n",
      "    \"\"\"returns x^y, or x^1 if no value for y is provided\"\"\"\r\n",
      "    print(\"In the inner scope x =\", str(x))\r\n",
      "    return x**y\r\n",
      "\r\n",
      "def main():\r\n",
      "    x2 = 3\r\n",
      "\r\n",
      "    print(\"Before function call x =\", str(x2))\r\n",
      "    print(power_up_2(4, 2))\r\n",
      "    print(\"After function call x =\", str(x2))\r\n",
      "\r\n",
      "if __name__ == '__main__':\r\n",
      "    main()\r\n"
     ]
    }
   ],
   "source": [
    "!cat helpers/my_mod2.py"
   ]
  },
  {
   "cell_type": "markdown",
   "metadata": {},
   "source": [
    "Now let's include this module in our code:"
   ]
  },
  {
   "cell_type": "code",
   "execution_count": 42,
   "metadata": {},
   "outputs": [],
   "source": [
    "import helpers.my_mod2"
   ]
  },
  {
   "cell_type": "markdown",
   "metadata": {},
   "source": [
    "We see nothing. We can check if the `power_up_2` function is defined"
   ]
  },
  {
   "cell_type": "code",
   "execution_count": 43,
   "metadata": {},
   "outputs": [
    {
     "name": "stdout",
     "output_type": "stream",
     "text": [
      "In the inner scope x = 3\n"
     ]
    },
    {
     "data": {
      "text/plain": [
       "27"
      ]
     },
     "execution_count": 43,
     "metadata": {},
     "output_type": "execute_result"
    }
   ],
   "source": [
    "helpers.my_mod2.power_up_2(3,3)"
   ]
  },
  {
   "cell_type": "markdown",
   "metadata": {},
   "source": [
    "and we see that it is. However, the rest of the testing code is not executed upon import because it is wrapped into a `main()` function, which is available in the module, but has to be invoked explicitly once the module is imported. \n",
    "\n",
    "If we run the code as a stand-alone program from the commandline, we get something different:"
   ]
  },
  {
   "cell_type": "code",
   "execution_count": 44,
   "metadata": {},
   "outputs": [
    {
     "name": "stdout",
     "output_type": "stream",
     "text": [
      "Before function call x = 3\r\n",
      "In the inner scope x = 4\r\n",
      "16\r\n",
      "After function call x = 3\r\n"
     ]
    }
   ],
   "source": [
    "!python helpers/my_mod2.py"
   ]
  },
  {
   "cell_type": "markdown",
   "metadata": {},
   "source": [
    "Now the `main()` function is executed, because the `__name__` variable in the module has been set to `'__main__'`. This allows for functions of the module to be reused, while the application context where these functions were defined can remain in the background, not cluttering the programs developed by other users."
   ]
  },
  {
   "cell_type": "markdown",
   "metadata": {},
   "source": [
    "#### Example: The `argparse` module\n",
    "\n",
    "Another very general purpose module that we should look at is `argparse`. It provides a wide range of functionalities associated with the parsing commandline arguments, enforcing the correct use of programs. The full documentation on the module can be found at https://docs.python.org/3/library/argparse.html. Here we will go through a few important features of this module. The basic idea is to construct an object containing all the relevant information about the commandline arguments that we expect and use this object to parse the commandline, extracting the individual arguments. While we may have done this ourselves in other programming languages, parsing the commandline to extract arguments and ensure that they have the correct type, range etc. is really tedious and error-prone. Let's look at the most basic way of using the module:"
   ]
  },
  {
   "cell_type": "code",
   "execution_count": 45,
   "metadata": {},
   "outputs": [],
   "source": [
    "import argparse\n",
    "parser = argparse.ArgumentParser()"
   ]
  },
  {
   "cell_type": "code",
   "execution_count": 46,
   "metadata": {},
   "outputs": [
    {
     "data": {
      "text/plain": [
       "['__class__',\n",
       " '__delattr__',\n",
       " '__dict__',\n",
       " '__dir__',\n",
       " '__doc__',\n",
       " '__eq__',\n",
       " '__format__',\n",
       " '__ge__',\n",
       " '__getattribute__',\n",
       " '__gt__',\n",
       " '__hash__',\n",
       " '__init__',\n",
       " '__init_subclass__',\n",
       " '__le__',\n",
       " '__lt__',\n",
       " '__module__',\n",
       " '__ne__',\n",
       " '__new__',\n",
       " '__reduce__',\n",
       " '__reduce_ex__',\n",
       " '__repr__',\n",
       " '__setattr__',\n",
       " '__sizeof__',\n",
       " '__str__',\n",
       " '__subclasshook__',\n",
       " '__weakref__',\n",
       " '_action_groups',\n",
       " '_actions',\n",
       " '_add_action',\n",
       " '_add_container_actions',\n",
       " '_check_conflict',\n",
       " '_check_value',\n",
       " '_defaults',\n",
       " '_get_args',\n",
       " '_get_formatter',\n",
       " '_get_handler',\n",
       " '_get_kwargs',\n",
       " '_get_nargs_pattern',\n",
       " '_get_option_tuples',\n",
       " '_get_optional_actions',\n",
       " '_get_optional_kwargs',\n",
       " '_get_positional_actions',\n",
       " '_get_positional_kwargs',\n",
       " '_get_value',\n",
       " '_get_values',\n",
       " '_handle_conflict_error',\n",
       " '_handle_conflict_resolve',\n",
       " '_has_negative_number_optionals',\n",
       " '_match_argument',\n",
       " '_match_arguments_partial',\n",
       " '_mutually_exclusive_groups',\n",
       " '_negative_number_matcher',\n",
       " '_option_string_actions',\n",
       " '_optionals',\n",
       " '_parse_known_args',\n",
       " '_parse_optional',\n",
       " '_pop_action_class',\n",
       " '_positionals',\n",
       " '_print_message',\n",
       " '_read_args_from_files',\n",
       " '_registries',\n",
       " '_registry_get',\n",
       " '_remove_action',\n",
       " '_subparsers',\n",
       " 'add_argument',\n",
       " 'add_argument_group',\n",
       " 'add_help',\n",
       " 'add_mutually_exclusive_group',\n",
       " 'add_subparsers',\n",
       " 'allow_abbrev',\n",
       " 'argument_default',\n",
       " 'conflict_handler',\n",
       " 'convert_arg_line_to_args',\n",
       " 'description',\n",
       " 'epilog',\n",
       " 'error',\n",
       " 'exit',\n",
       " 'format_help',\n",
       " 'format_usage',\n",
       " 'formatter_class',\n",
       " 'fromfile_prefix_chars',\n",
       " 'get_default',\n",
       " 'parse_args',\n",
       " 'parse_intermixed_args',\n",
       " 'parse_known_args',\n",
       " 'parse_known_intermixed_args',\n",
       " 'prefix_chars',\n",
       " 'print_help',\n",
       " 'print_usage',\n",
       " 'prog',\n",
       " 'register',\n",
       " 'set_defaults',\n",
       " 'usage']"
      ]
     },
     "execution_count": 46,
     "metadata": {},
     "output_type": "execute_result"
    }
   ],
   "source": [
    "dir(parser)"
   ]
  },
  {
   "cell_type": "markdown",
   "metadata": {},
   "source": [
    "We created an object that has in principle a lot of functionality, but does not have any variables/arguments. What we need to do is to add these variables. To see how this works, let's unpack the first example provided in the documentation, which looks like this:"
   ]
  },
  {
   "cell_type": "code",
   "execution_count": 48,
   "metadata": {},
   "outputs": [
    {
     "name": "stdout",
     "output_type": "stream",
     "text": [
      "import argparse\r\n",
      "\r\n",
      "parser = argparse.ArgumentParser(description='Process some integers.')\r\n",
      "parser.add_argument('integers', metavar='N', type=int, nargs='+',\r\n",
      "                    help='an integer for the accumulator')\r\n",
      "parser.add_argument('--sum', dest='accumulate', action='store_const',\r\n",
      "                    const=sum, default=max,\r\n",
      "                    help='sum the integers (default: find the max)')\r\n",
      "parser.add_argument('chars', metavar='char', type=str, nargs='+',\r\n",
      "                    help='character type parameters')\r\n",
      "parser.add_argument('--p', action='store_true', help=\"print args?\")\r\n",
      "\r\n",
      "if __name__ == '__main__':\r\n",
      "    args = parser.parse_args()\r\n",
      "    if(args.p):\r\n",
      "        print(args.integers)\r\n",
      "        print(args.chars)\r\n",
      "    print(args.accumulate(args.integers))\r\n",
      "    \r\n",
      "    \r\n",
      "\r\n",
      "\r\n"
     ]
    }
   ],
   "source": [
    "!cat helpers/argparse_basic.py"
   ]
  },
  {
   "cell_type": "markdown",
   "metadata": {},
   "source": [
    "We start by creating the `parser` object by a call to the `ArgumentParser` method of `argparse`. This can take quite some arguments, one of which is the _description_ of what the program is supposed to do, information that will show up if we run the program with the option `-h`, that is, when we call \"help\" on the program. The complete list of arguments to `ArgumentParser` is this, with their associated defaults:\n",
    "```python\n",
    "class argparse.ArgumentParser(prog=None, usage=None, description=None, epilog=None, parents=[], formatter_class=argparse.HelpFormatter, prefix_chars='-', fromfile_prefix_chars=None, argument_default=None, conflict_handler='error', add_help=True, allow_abbrev=True, exit_on_error=True)\n",
    "```\n",
    "Again, you can find out what each of these parameters is for, some are more intuitive than others, e.g. `prog` will hold the name of the program (this would be taken from `sys.argv[0]` when we run the program from the commandline), and `usage` will hold a string describing how the program is to be invoked.\n",
    "\n",
    "The next line\n",
    "```python\n",
    "parser.add_argument('integers', metavar='N', type=int, nargs='+',\n",
    "                    help='an integer for the accumulator')\n",
    "```\n",
    "specifies one commandline argument. The first argument to this method has to be either an argument name or a flag that specifies an optional argument. In this case the first argument is a name that tells us how the positional argument(s) will be called. We further see that this argument should be of type `int`, that there should be at least one (and if more, they will be gathered into a list, `nargs='+'`) and that in the `help` message this parameter will be called `N`.\n",
    "\n",
    "The next line shows us how to add an optional argument:\n",
    "```python\n",
    "parser.add_argument('--sum', dest='accumulate', action='store_const',\n",
    "                    const=sum, default=max,\n",
    "                    help='sum the integers (default: find the max)')\n",
    "```\n",
    "This is because the first argument to the function is the flag `--sum`. The argument that follows after this flag is saved into the variable specified by the `dest` argument, which in this case is called `accumulate`. The `action` argument specifies some action related to the argument being parsed. In this case, it specifies that what needs to happen is to store the constant that is also an argument to the method, namely the build-in function `sum` into the `accumulate` variable. However, if this option is not specified, the dafault value assigned to the `accumulate` variable is the built-in function `max`. \n",
    "\n",
    "We'll add one more positional parameter, similar to the integers, but holding characters. Finally, we add a flag (`p`) that can be used by the program (as you see above, it is used to print the number and character lists that were created when parsing the command line.\n",
    "\n",
    "Let's now run our basic program:"
   ]
  },
  {
   "cell_type": "code",
   "execution_count": 56,
   "metadata": {},
   "outputs": [
    {
     "name": "stdout",
     "output_type": "stream",
     "text": [
      "[1, 2, 3, 4, 5, 6, 7, 8, 9]\r\n",
      "['a']\r\n",
      "9\r\n"
     ]
    }
   ],
   "source": [
    "!python helpers/argparse_basic.py 1 2 3 4 5 6 7 8 9 a --p"
   ]
  },
  {
   "cell_type": "code",
   "execution_count": 57,
   "metadata": {},
   "outputs": [
    {
     "name": "stdout",
     "output_type": "stream",
     "text": [
      "36\r\n"
     ]
    }
   ],
   "source": [
    "!python helpers/argparse_basic.py 1 2 3 4 5 6 7 8 9 --sum"
   ]
  },
  {
   "cell_type": "code",
   "execution_count": 58,
   "metadata": {},
   "outputs": [
    {
     "name": "stdout",
     "output_type": "stream",
     "text": [
      "36\r\n"
     ]
    }
   ],
   "source": [
    "!python helpers/argparse_basic.py --sum 1 2 3 4 5 6 7 8 9"
   ]
  },
  {
   "cell_type": "code",
   "execution_count": 59,
   "metadata": {},
   "outputs": [
    {
     "name": "stdout",
     "output_type": "stream",
     "text": [
      "9\r\n"
     ]
    }
   ],
   "source": [
    "!python helpers/argparse_basic.py 1 2 3 4 5 6 7 8 9 a"
   ]
  },
  {
   "cell_type": "code",
   "execution_count": 60,
   "metadata": {},
   "outputs": [
    {
     "name": "stdout",
     "output_type": "stream",
     "text": [
      "usage: argparse_basic.py [-h] [--sum] [--p] N [N ...] char [char ...]\r\n",
      "argparse_basic.py: error: the following arguments are required: char\r\n"
     ]
    }
   ],
   "source": [
    "!python helpers/argparse_basic.py 1 --sum"
   ]
  },
  {
   "cell_type": "markdown",
   "metadata": {},
   "source": [
    "As you may notice, we have not passed any commandline arguments to the method `parse_args()`. That's because its default parameter is the list of commandline arguments, which is held in the sys.argv, and is parsed out of the commandline string. We could construct such a list ourselves if we wanted, e.g."
   ]
  },
  {
   "cell_type": "code",
   "execution_count": 61,
   "metadata": {},
   "outputs": [],
   "source": [
    "import helpers.argparse_basic"
   ]
  },
  {
   "cell_type": "code",
   "execution_count": 62,
   "metadata": {},
   "outputs": [
    {
     "data": {
      "text/plain": [
       "Namespace(accumulate=<built-in function sum>, chars=['9'], integers=[1, 2, 3, 4, 5, 6, 7, 8], p=False)"
      ]
     },
     "execution_count": 62,
     "metadata": {},
     "output_type": "execute_result"
    }
   ],
   "source": [
    "helpers.argparse_basic.parser.parse_args(\"1 2 3 4 5 6 7 8 9 --sum\".split())"
   ]
  },
  {
   "cell_type": "markdown",
   "metadata": {},
   "source": [
    "#### More on `import`s\n",
    "\n",
    "Apart from importing entire modules, one can also directly import any objects from inside them, such as classes, functions and constants/variables. This is generally the preferred method of importing code, as it is more performant and more explicit. To import a class `SomeClass` from the module `my_module`, you would, e.g., write:\n",
    "\n",
    "```python\n",
    "from my_module import SomeClass\n",
    "```\n",
    "\n",
    "To import some constant `MY_CONSTANT` at the same time, you would write the following instead:\n",
    "\n",
    "```python\n",
    "from my_module import (MY_CONSTANT, SomeClass)\n",
    "```\n",
    "\n",
    "It is also possible to import an object under a different name:\n",
    "\n",
    "```python\n",
    "from my_module import SomeClass as sc\n",
    "```\n",
    "\n",
    "Following the above statement you can (and indeed MUST) now refer to the imported class as `sc` rather than the original `SomeClass`."
   ]
  },
  {
   "cell_type": "markdown",
   "metadata": {},
   "source": [
    "### Packages\n",
    "\n",
    "While discussing modules above, I may have sometimes referred to a *package*. Is there a difference?\n",
    "\n",
    "A module is a single Python file. On the other hand, a [package](https://docs.python.org/3/tutorial/modules.html#packages) is a _collection_ of related modules (but it may well contain only a single module), organized in a hierarchical manner on the file system and containing an `__init__.py` module in each directory (in special cases there are exceptions to this last point, but we will not go into that here).\n",
    "\n",
    "The simplest possible package, with just a single `__init__.py` module looks like this:\n",
    "\n",
    "```console\n",
    "my_package/\n",
    "└── __init__.py\n",
    "```\n",
    "\n",
    "A more complex, nested package might look like this:\n",
    "\n",
    "```console\n",
    "my_package/\n",
    "├── __init__.py\n",
    "├── my_module.py\n",
    "├── my_other_module.py\n",
    "├── my_subpackage/\n",
    "│   ├── __init__.py\n",
    "│   ├── my_submodule.py\n",
    "│   └── my_other_submodule.py\n",
    "├── my_other_subpackage/\n",
    "│   ├── __init__.py\n",
    "│   ├── not_a_python_file  # ignored by Python\n",
    "│   ├── my_third_submodule.py\n",
    "│   └── my_third_subpackage/\n",
    "│       ├── __init__.py\n",
    "│       └── my_last_submodule.py\n",
    "└── not_a_package/  # not a (sub)package, because it does not contain an \"__init__.py\" file\n",
    "    ├── not_a_python_file\n",
    "    └── my_other_submodule.py\n",
    "```\n",
    "\n",
    "In principle, the `__init__.py` module can contain any code. However, it is a convention that it should generally just contain initialization code to be executed when the package is imported (technically, you cannot really import a package and when you do something like `import my_package` what is _really_ imported are the contents of the `__init__.py` file in the package `my_package`). If there is nothing to initialize (which is often the case), they should best be left empty.\n",
    "\n",
    "#### Package `import`s\n",
    "\n",
    "To import an entire (sub)module from a package, you would write something like this:\n",
    "\n",
    "```python\n",
    "import my_package  # imports module `__init__.py` in `my_package` root\n",
    "import my_package.my_subpackage  # imports module `__init__.py` in subpackage `my_subpackage`\n",
    "import my_package.my_submodule  # imports module `my_submodule` in `my_package` root\n",
    "```\n",
    "\n",
    "As you can see, you need to use the `.` notation, starting with the most outside package. For example, to import a class `SomeClass` and a constant `MY_CONSTANT` from the submodule `my_submodule` in subpackage `my_subpackage` in package `my_package`, you would, e.g., write:\n",
    "\n",
    "```python\n",
    "from my_package.my_subpackage.my_submodule import (MY_CONSTANT, SomeClass)\n",
    "```\n",
    "\n",
    "_**Where does Python look for packages?**_\n",
    "\n",
    "When the import statement is encountered, Python checks whether the module from which an item is to be imported is defined in the current package/directory. If not, it looks for the module in the directories specified in the list variable `sys.path`, which is initialized from the environment variable `PYTHONPATH` or, if it not set, from a built-in default. This variable can be modified, for e.g.:\n",
    "\n",
    "```python\n",
    "import sys\n",
    "sys.path.append('/path/to/my/module')\n",
    "```\n",
    "\n",
    "An `ImportError` exception is raised if the package/module is not found. Packages support a special attribute, __path__, initialized to be a list containing the name of the directory holding the package’s `__init__.py` before the code in that file is executed. This is sometimes used to extend the set of modules found in a package.\n",
    "\n",
    "_**Conventions on `import`ing**_\n",
    "\n",
    "Production code can frequently have dozens of `import` statements per module. To make these more maintainable there are a couple of conventions that you should try to stick to:\n",
    "\n",
    "* Place all import statements at the top of a module, before any other code. Try to avoid importing modules/objects just before you need them. This practice will reveal problems with missing or broken packages early, and it will be easier to maintain and read the list of imports.\n",
    "* Distribute all imports into three separate blocks, separated with one blank line: imports from (1) built-in, (2) third-party (i.e., from packages you have installed manually) and (3) local (i.e., from _this_ project) modules. Sort each block alphabetically by the package/module names (irrespective of whether you use `import` or `from ... import`).\n",
    "\n",
    "For example, this could be the first couple of lines of your module:\n",
    "\n",
    "```python\n",
    "import os\n",
    "from time import sleep\n",
    "\n",
    "from third_party_package.some_module import SomeClass\n",
    "\n",
    "from my_own_package.some_module import SOME_CONSTANT\n",
    "import my_own_package.whole_module\n",
    "```"
   ]
  },
  {
   "cell_type": "markdown",
   "metadata": {},
   "source": [
    "#### Installing packages\n",
    "\n",
    "Packages are also the container that is used most commonly to publish Python projects. Over the years, innumerable packages have been written for Python that one can *install* and use. The biggest resource for Python packages is the [Python Package Index](https://pypi.org/), more commonly referred to as PyPI. \n",
    "\n",
    "Python packages can be installed via the package manager Pip that should be automatically installed together with Python (you can verify that it is available with `pip --version`). When installing a package that is listed in PyPI, the syntax is very simple:\n",
    "\n",
    "```bash\n",
    "pip install package_name\n",
    "```\n",
    "\n",
    "where `package_name` is the name of the package you would like to install.\n",
    "\n",
    "When installing a package, Pip fetches the code from a repository and stores it in an efficient way on your local file system so that you can use it in the future. The location where packages are stored is pre-configured and typically does not need to be modified. If you want to find out where a given package was installed, you can run `pip show package_name`.\n",
    "\n",
    "It is useful to know that Pip can also be used to install packages from sources other than PyPI, e.g., from Git repositories:\n",
    "\n",
    "```bash\n",
    "# Install code from default branch\n",
    "pip install git+https://github.com/user/repo.git\n",
    "\n",
    "# Install code from specific branch/tag/commit\n",
    "pip install git+https://github.com/user/repo.git@branch/tag/commit\n",
    "```\n",
    "\n",
    "Finally, Pip can also be used to install a Python package from the current directory. For this, we need to be in the root directory of the project, which should contain instructions about package installation (a `pyproject.toml` file is the currently preferred option, a `setup.py` file was used before and still works currently). If available, you can execute the following command to install your local package:\n",
    "\n",
    "```bash\n",
    "pip install .\n",
    "```\n",
    "\n",
    "Sometimes it is useful to install a Python project that you are currently working on. In that case, it is best to install the package in an \"editable\" manner by providing the `-e` flag when installing:\n",
    "\n",
    "```bash\n",
    "pip install -e .\n",
    "```\n",
    "\n",
    "This would not copy any files to your interpreter directory (e.g. the `site-packages` directory)."
   ]
  },
  {
   "cell_type": "markdown",
   "metadata": {},
   "source": [
    "## Creating and publishing packages\n",
    "\n",
    "There is a lot of support for creating distributable versions of packages. We will only look at th basics, and you can use https://setuptools.pypa.io/en/latest/userguide/quickstart.html as initial reference.\n",
    "\n",
    "We have already learned that what makes a directory containing Python modules a package is the presence of an `__init__.py` module. However, if we want to publish/distribute our package in a form that is usable by others, we need to do a few more things:\n",
    "\n",
    "### Annotate your package with metadata\n",
    "\n",
    "For your project you probably created a directory `code/` inside of your Git repository root directory and put all your actual code inside that subdirectory. We generally do this so that all the code is nicely located together in one directory and is not mixed up with configuration files etc. (e.g., `.gitignore`). As such, the `code/` (the name is not important) subdirectory is effectively your package, and all files and directories inside it are (sub)modules and subpackages of that package.\n",
    "\n",
    "To annotate the package and provide the instructions required for PyPI to store and Pip to install the package, we need to create a file `pyproject.toml` inside the repository root directory (i.e., _outside_ of the package).\n",
    "\n",
    "A very minimal `pyproject.py` file could look something like this:\n",
    "\n",
    "```python\n",
    "[build-system]                                                                                                  \n",
    "requires = [\"setuptools\"]                                                                                       \n",
    "build-backend = \"setuptools.build_meta\"                                                                         \n",
    "                                                                                                                \n",
    "[project]                                                                                                       \n",
    "name = \"mypackage\"                                                                                          \n",
    "version = \"1.0.0\"                                                                                               \n",
    "description = \"Brief package description\"                                              \n",
    "license = { text = \"MIT\" }                                                                                      \n",
    "authors = [                                                                                                     \n",
    "        {name = \"MyName\", email = \"MyEmail\"},                                        \n",
    "]                                                                                                               \n",
    "dependencies = [] # add here packages that are required for your package to run, including version or range of versions                                                                                                           \n",
    "\n",
    "[tool.setuptools.packages]\n",
    "find = {} # this will autodetect Python packages from the directory tree, e.g., in `code/`\n",
    "```\n",
    "\n",
    "You can modify these values to fit your needs and most of these should be fairly obvious. We would like to point out two good practices though:\n",
    "\n",
    "1. Never publish any code without a **license**! Commonly used code licenses in the Open Source Software community are the MIT, Apache 2.0 and GPL-based licenses. We recommend you use the [MIT license](https://opensource.org/licenses/MIT) for a start. See [this resource](https://choosealicense.com/) for further info and additional licenses.\n",
    "2. It is very useful (particularly for users of your software) to explicitly **version your code**. We strongly recommend you adhere to the [Semantic Versioning](https://semver.org/) specification for this purpose, a 3-part versioning system (a fourth part is optional) composed of major (for breaking changes to the software's interface), minor (for backwards-compatible changes to the software's interface) and patch (for changes that do not change the software's interface).\n",
    "\n",
    "Check out more options from\n",
    "- https://setuptools.pypa.io/en/latest/userguide/index.html\n",
    "- https://setuptools.pypa.io/en/latest/userguide/quickstart.html\n",
    "- https://setuptools.pypa.io/en/latest/userguide/pyproject_config.html\n",
    "\n",
    "\n",
    "### Create a command-line executable\n",
    "\n",
    "As scripts that can be executed from the commandline are commonplace in the life sciences, we would like to point out that it is possible to have create commandline executables from your Python code that are invoked after package installation and execute a specific function. All you need to do is at the following to your `pyproject.toml` file:\n",
    "\n",
    "```python\n",
    "[project.scripts]                                                                                               \n",
    "my-executable = \"mypackage.my_module:main\"                                                              \n",
    "```\n",
    "\n",
    "Here we tell `setuptools`: _\"Create an executable `my-executable` that executes the function `main()` from module `my_module` of package `mypackage`.\"_\n",
    "\n",
    "> By convention, we often call the function that serves as an entry point for command-line scripts `main()`. See [above](#On-executing-Python-scripts-from-the-command-line) for an example and how to guard this sort of code against accidental execution when importing from the module that contains that function. In your homework you will write such a `main()` function that parses the user's commandline arguments and provides them as input to the code you have previously written.\n",
    "\n",
    "### Build the package for distribution\n",
    "\n",
    "To prepare your package for publication, simply execute Python's `build` module, like so:\n",
    "\n",
    "```python\n",
    "python -m build\n",
    "```\n",
    "\n",
    "If you have a look at your directory after executing the command, you will see that `build` created a directory `dist/` for you, which contains compressed files that we need to publish the package.\n",
    "\n",
    "### Upload the package to PyPI\n",
    "\n",
    "You should now be ready to publish your package to the Python Package Index (PyPI)!\n",
    "\n",
    "Unless you are sure that your software is ready to be used by others (or you have at least a strong desire to get there soon), we recommend you _not_ to publish to PyPI just yet. Nothing will stop you from doing so, but there is not much point in flooding [PyPI](https://pypi.org/) with test software or half-baked code. Instead, we can publish the code to the [Test PyPI](https://test.pypi.org/). By the way, publishing to Test PyPI is also good practice for serious/production releases - just to make sure that your package ends up on the index just like you want it.\n",
    "\n",
    "To upload the package to Test PyPI, we make use of the `twine` module and tell it to upload the contents of the `dist/` folder to `testpypi`:\n",
    "\n",
    "```python\n",
    "python -m twine upload --repository testpypi dist/*\n",
    "```\n",
    "\n",
    "Executing this command will ask you for your **username and password**, so make sure you register with Test PyPI first.\n",
    "\n",
    "> To upload to PyPI instead, simply omit the `--repository` parameter and its argument. Note that you need to register with PyPI and Test PyPI indvidually, their user databases are not shared!\n",
    "\n",
    "Your code should now be available on Test PyPI for a while. You and others can install the package with Pip using\n",
    "\n",
    "```python\n",
    "pip install --index-url https://test.pypi.org/simple/ --extra-index-url https://pypi.org/simple mypackage\n",
    "```\n",
    "\n",
    "where `mypackage` is the name of the package. The arguments to `--index-url` and `--extra-index-url` tell Pip to find `mypackage` on Test PyPI but find any dependent packages (if your code requires them) from the regular PyPI."
   ]
  },
  {
   "cell_type": "markdown",
   "metadata": {},
   "source": [
    "# Further reading\n",
    "\n",
    "If you would like more info about today's topics, have a look at the following resources on:\n",
    "\n",
    "* [Classes](https://docs.python.org/3/tutorial/classes.html)\n",
    "* [Modules](https://docs.python.org/3/tutorial/modules.html)\n",
    "* [Packaging](https://packaging.python.org/)\n",
    "* [Licenses](https://choosealicense.com/)\n",
    "* [Semantic Versioning](https://semver.org/)"
   ]
  },
  {
   "cell_type": "markdown",
   "metadata": {},
   "source": [
    "# Homework\n",
    "\n",
    "For all homework: Please merge your code via the Git flow you learned about in the last session (feature branch, commit, merge request, merge). Each point below should be a separate commit (write [semantic commit messages](https://www.conventionalcommits.org/en/v1.0.0/) and choose the most appropriate keywords, e.g., `refactor`, `build`, etc. - nothing of what is added in this homework will be feature).\n",
    "\n",
    "1. **Refactor your code to use a class** (60 min)  \n",
    "   Rewrite the code you have so far to use classes. E.g. `GillespieApp` could be one such class, `SimulationParams` another. Save the file(s) it in file/module in your code directory and delete old code.\n",
    "2. **Set up a basic `pyproject.toml` file** (10 min)\n",
    "    Use the information above to create a basic `pyproject.toml` file in your project's root directory. Make sure to pick an Open Source software license from [this resource](https://choosealicense.com/), and add a corresponding entry to your `pyproject.toml` file.\n",
    "3. **Add a command-line interface** (45 min)  \n",
    "   Create a command-line interface (CLI) and make sure that respective code is only executed when the module is called from the command line, not when imported. Add the corresponding entry to the `pyproject.toml` file.\n",
    "4. **Create a package** (20 min)  \n",
    "   Add a `__init__.py` file to your code directory to make it a package. Give your package and\n",
    "   executable suitable names. For the package name, first verify that a package with your chosen\n",
    "   name does not already exist on PyPI.\n",
    "5. **Publish your package** (10 min)  \n",
    "   Build the package then publish it on Test PyPI. Note that your package will be removed from Test\n",
    "   PyPI after a while. This is fine as we do not want to store our test packages permanently. For\n",
    "   any real package, you would of course publish it on the regular PyPI as well, after verifying\n",
    "   that the upload to Test PyPI works as expected.\n",
    "\n",
    "Upon completion, the directory structure should look something like this:\n",
    "\n",
    "```console\n",
    "├── your_package\n",
    "│   ├── __init__.py\n",
    "│   ├── your_code_file.py\n",
    "│   ├── your_other_code_file.py\n",
    "│   └── ...  # any additional modules\n",
    "├── .git\n",
    "│   ├── ...\n",
    "│   ├── ...\n",
    "│   └── ...\n",
    "├── .gitignore\n",
    "├── images\n",
    "│   ├── screenshot_git_tutorial_1_student_1.png\n",
    "│   ├── screenshot_git_tutorial_2_student_1.png\n",
    "│   ├── screenshot_markdown_tutorial_student_1.png\n",
    "│   ├── screenshot_git_tutorial_1_student_2.png\n",
    "│   ├── screenshot_git_tutorial_2_student_2.png\n",
    "│   ├── screenshot_markdown_tutorial_student_2.png\n",
    "│   └── ...  # screenshots from additional contributors\n",
    "├── LICENSE\n",
    "├── README.md\n",
    "└── setup.py\n",
    "```\n",
    "\n",
    "Enjoy creating and publishing your first Python package! :)"
   ]
  },
  {
   "cell_type": "code",
   "execution_count": null,
   "metadata": {},
   "outputs": [],
   "source": []
  }
 ],
 "metadata": {
  "anaconda-cloud": {},
  "kernelspec": {
   "display_name": "Python 3",
   "language": "python",
   "name": "python3"
  },
  "language_info": {
   "codemirror_mode": {
    "name": "ipython",
    "version": 3
   },
   "file_extension": ".py",
   "mimetype": "text/x-python",
   "name": "python",
   "nbconvert_exporter": "python",
   "pygments_lexer": "ipython3",
   "version": "3.8.5"
  }
 },
 "nbformat": 4,
 "nbformat_minor": 4
}
